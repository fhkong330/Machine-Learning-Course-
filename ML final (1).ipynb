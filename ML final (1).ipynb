{
 "cells": [
  {
   "cell_type": "markdown",
   "id": "a546a6a6",
   "metadata": {},
   "source": [
    "1 Data collection and preprocessing"
   ]
  },
  {
   "cell_type": "code",
   "execution_count": 1,
   "id": "f32f098f",
   "metadata": {},
   "outputs": [
    {
     "name": "stdout",
     "output_type": "stream",
     "text": [
      "Requirement already satisfied: yfinance in d:\\anaconda\\lib\\site-packages (0.2.36)\n",
      "Requirement already satisfied: pandas in d:\\anaconda\\lib\\site-packages (1.5.3)\n",
      "Requirement already satisfied: numpy in d:\\anaconda\\lib\\site-packages (1.24.3)\n",
      "Requirement already satisfied: matplotlib in d:\\anaconda\\lib\\site-packages (3.7.1)\n",
      "Requirement already satisfied: requests in d:\\anaconda\\lib\\site-packages (2.31.0)\n",
      "Requirement already satisfied: multitasking>=0.0.7 in d:\\anaconda\\lib\\site-packages (from yfinance) (0.0.11)\n",
      "Requirement already satisfied: lxml>=4.9.1 in d:\\anaconda\\lib\\site-packages (from yfinance) (4.9.2)\n",
      "Requirement already satisfied: appdirs>=1.4.4 in d:\\anaconda\\lib\\site-packages (from yfinance) (1.4.4)\n",
      "Requirement already satisfied: pytz>=2022.5 in d:\\anaconda\\lib\\site-packages (from yfinance) (2022.7)\n",
      "Requirement already satisfied: frozendict>=2.3.4 in d:\\anaconda\\lib\\site-packages (from yfinance) (2.4.0)\n",
      "Requirement already satisfied: peewee>=3.16.2 in d:\\anaconda\\lib\\site-packages (from yfinance) (3.17.1)\n",
      "Requirement already satisfied: beautifulsoup4>=4.11.1 in d:\\anaconda\\lib\\site-packages (from yfinance) (4.12.2)\n",
      "Requirement already satisfied: html5lib>=1.1 in d:\\anaconda\\lib\\site-packages (from yfinance) (1.1)\n",
      "Requirement already satisfied: python-dateutil>=2.8.1 in d:\\anaconda\\lib\\site-packages (from pandas) (2.8.2)\n",
      "Requirement already satisfied: contourpy>=1.0.1 in d:\\anaconda\\lib\\site-packages (from matplotlib) (1.0.5)\n",
      "Requirement already satisfied: cycler>=0.10 in d:\\anaconda\\lib\\site-packages (from matplotlib) (0.11.0)\n",
      "Requirement already satisfied: fonttools>=4.22.0 in d:\\anaconda\\lib\\site-packages (from matplotlib) (4.25.0)\n",
      "Requirement already satisfied: kiwisolver>=1.0.1 in d:\\anaconda\\lib\\site-packages (from matplotlib) (1.4.4)\n",
      "Requirement already satisfied: packaging>=20.0 in d:\\anaconda\\lib\\site-packages (from matplotlib) (23.0)\n",
      "Requirement already satisfied: pillow>=6.2.0 in d:\\anaconda\\lib\\site-packages (from matplotlib) (9.4.0)\n",
      "Requirement already satisfied: pyparsing>=2.3.1 in d:\\anaconda\\lib\\site-packages (from matplotlib) (3.0.9)\n",
      "Requirement already satisfied: charset-normalizer<4,>=2 in d:\\anaconda\\lib\\site-packages (from requests) (2.0.4)\n",
      "Requirement already satisfied: idna<4,>=2.5 in d:\\anaconda\\lib\\site-packages (from requests) (3.4)\n",
      "Requirement already satisfied: urllib3<3,>=1.21.1 in d:\\anaconda\\lib\\site-packages (from requests) (1.26.16)\n",
      "Requirement already satisfied: certifi>=2017.4.17 in d:\\anaconda\\lib\\site-packages (from requests) (2023.7.22)\n",
      "Requirement already satisfied: soupsieve>1.2 in d:\\anaconda\\lib\\site-packages (from beautifulsoup4>=4.11.1->yfinance) (2.4)\n",
      "Requirement already satisfied: six>=1.9 in d:\\anaconda\\lib\\site-packages (from html5lib>=1.1->yfinance) (1.16.0)\n",
      "Requirement already satisfied: webencodings in d:\\anaconda\\lib\\site-packages (from html5lib>=1.1->yfinance) (0.5.1)\n"
     ]
    },
    {
     "name": "stderr",
     "output_type": "stream",
     "text": [
      "D:\\ANACONDA\\Lib\\site-packages\\yfinance\\base.py:48: FutureWarning: The default dtype for empty Series will be 'object' instead of 'float64' in a future version. Specify a dtype explicitly to silence this warning.\n",
      "  _empty_series = pd.Series()\n"
     ]
    }
   ],
   "source": [
    "#!/usr/bin/env python\n",
    "# coding: utf-8\n",
    "\n",
    "\n",
    "\n",
    "get_ipython().system('pip install yfinance pandas numpy matplotlib requests')\n",
    "\n",
    "import yfinance as yf\n",
    "import pandas as pd\n",
    "import numpy as np\n",
    "import requests\n",
    "import random\n"
   ]
  },
  {
   "cell_type": "code",
   "execution_count": 2,
   "id": "65413255",
   "metadata": {},
   "outputs": [],
   "source": [
    "# 从维基百科获取标普500成分股列表\n",
    "sp500_url = \"https://en.wikipedia.org/wiki/List_of_S%26P_500_companies\"\n",
    "sp500_table = pd.read_html(sp500_url, header=0)[0]\n",
    "sp500_symbols = sp500_table['Symbol'].tolist()  # 获取所有股票代码\n"
   ]
  },
  {
   "cell_type": "code",
   "execution_count": 3,
   "id": "d367b521",
   "metadata": {},
   "outputs": [
    {
     "name": "stderr",
     "output_type": "stream",
     "text": [
      "[*********************100%%**********************]  1 of 1 completed\n",
      "[*********************100%%**********************]  1 of 1 completed\n",
      "[*********************100%%**********************]  1 of 1 completed\n",
      "[*********************100%%**********************]  1 of 1 completed\n",
      "[*********************100%%**********************]  1 of 1 completed\n",
      "[*********************100%%**********************]  1 of 1 completed\n",
      "[*********************100%%**********************]  1 of 1 completed\n",
      "[*********************100%%**********************]  1 of 1 completed\n",
      "[*********************100%%**********************]  1 of 1 completed\n",
      "[*********************100%%**********************]  1 of 1 completed\n",
      "[*********************100%%**********************]  1 of 1 completed\n",
      "[*********************100%%**********************]  1 of 1 completed\n",
      "[*********************100%%**********************]  1 of 1 completed\n",
      "[*********************100%%**********************]  1 of 1 completed\n",
      "[*********************100%%**********************]  1 of 1 completed\n",
      "[*********************100%%**********************]  1 of 1 completed\n",
      "[*********************100%%**********************]  1 of 1 completed\n",
      "[*********************100%%**********************]  1 of 1 completed\n",
      "[*********************100%%**********************]  1 of 1 completed\n",
      "[*********************100%%**********************]  1 of 1 completed\n",
      "[*********************100%%**********************]  1 of 1 completed\n",
      "[*********************100%%**********************]  1 of 1 completed\n",
      "[*********************100%%**********************]  1 of 1 completed\n",
      "[*********************100%%**********************]  1 of 1 completed\n",
      "[*********************100%%**********************]  1 of 1 completed\n",
      "[*********************100%%**********************]  1 of 1 completed\n",
      "[*********************100%%**********************]  1 of 1 completed\n",
      "[*********************100%%**********************]  1 of 1 completed\n",
      "[*********************100%%**********************]  1 of 1 completed\n",
      "[*********************100%%**********************]  1 of 1 completed\n",
      "[*********************100%%**********************]  1 of 1 completed\n",
      "[*********************100%%**********************]  1 of 1 completed\n",
      "[*********************100%%**********************]  1 of 1 completed\n",
      "[*********************100%%**********************]  1 of 1 completed\n",
      "[*********************100%%**********************]  1 of 1 completed\n",
      "[*********************100%%**********************]  1 of 1 completed\n",
      "[*********************100%%**********************]  1 of 1 completed\n",
      "[*********************100%%**********************]  1 of 1 completed\n",
      "[*********************100%%**********************]  1 of 1 completed\n",
      "[*********************100%%**********************]  1 of 1 completed\n",
      "[*********************100%%**********************]  1 of 1 completed\n",
      "[*********************100%%**********************]  1 of 1 completed\n",
      "[*********************100%%**********************]  1 of 1 completed\n",
      "[*********************100%%**********************]  1 of 1 completed\n",
      "[*********************100%%**********************]  1 of 1 completed\n",
      "[*********************100%%**********************]  1 of 1 completed\n",
      "[*********************100%%**********************]  1 of 1 completed\n",
      "[*********************100%%**********************]  1 of 1 completed\n",
      "[*********************100%%**********************]  1 of 1 completed\n",
      "[*********************100%%**********************]  1 of 1 completed"
     ]
    },
    {
     "name": "stdout",
     "output_type": "stream",
     "text": [
      "Initial valid stocks: 49\n",
      "Failed or short-term stocks: 1\n"
     ]
    },
    {
     "name": "stderr",
     "output_type": "stream",
     "text": [
      "\n"
     ]
    }
   ],
   "source": [
    "# 设置下载参数\n",
    "start_date = \"2014-01-01\"\n",
    "end_date = \"2024-01-01\"\n",
    "frequency = \"1mo\"  # 月频 月频数据，适合因子分析，避免日频带来的计算复杂度\n",
    "min_data_points = 84  # 至少7年（84个月）的数据点，因为很多股票是十年内的新股，所以我们要求股票至少有7年的数据，否则数据过少，影响准确度\n",
    "\n",
    "# 随机选择初始股票池\n",
    "random.seed(42)  # 固定随机种子以便结果可复现\n",
    "initial_stocks = random.sample(sp500_symbols, 50) #随机抽50个股票\n",
    "\n",
    "# 下载数据\n",
    "price_data = {}\n",
    "failed_stocks = []\n",
    "\n",
    "for stock in initial_stocks:\n",
    "    try:\n",
    "        # 下载数据并检查有效性\n",
    "        adjusted_ticker = stock.replace('.', '-')  # 处理带点号的股票\n",
    "        data = yf.download(adjusted_ticker, start=start_date, end=end_date, interval=frequency)\n",
    "        if len(data) >= min_data_points:  # 满足7年数据点条件\n",
    "            price_data[stock] = data\n",
    "        else:\n",
    "            failed_stocks.append(stock)\n",
    "    except Exception as e:\n",
    "        failed_stocks.append(stock)\n",
    "        print(f\"Failed to download data for {stock}: {e}\")\n",
    "\n",
    "print(f\"Initial valid stocks: {len(price_data)}\")\n",
    "print(f\"Failed or short-term stocks: {len(failed_stocks)}\")\n"
   ]
  },
  {
   "cell_type": "code",
   "execution_count": 4,
   "id": "903249f3",
   "metadata": {},
   "outputs": [
    {
     "name": "stderr",
     "output_type": "stream",
     "text": [
      "[*********************100%%**********************]  1 of 1 completed"
     ]
    },
    {
     "name": "stdout",
     "output_type": "stream",
     "text": [
      "Final valid stocks: 50\n"
     ]
    },
    {
     "name": "stderr",
     "output_type": "stream",
     "text": [
      "\n"
     ]
    }
   ],
   "source": [
    "# 如果股票池少于50只，从剩余股票中补充\n",
    "remaining_stocks = [stock for stock in sp500_symbols if stock not in price_data]\n",
    "additional_stocks_needed = 50 - len(price_data)\n",
    "\n",
    "if additional_stocks_needed > 0:\n",
    "    additional_stocks = random.sample(remaining_stocks, additional_stocks_needed)\n",
    "    for stock in additional_stocks:\n",
    "        try:\n",
    "            # 下载数据并检查有效性\n",
    "            adjusted_ticker = stock.replace('.', '-')\n",
    "            data = yf.download(adjusted_ticker, start=start_date, end=end_date, interval=frequency)\n",
    "            if len(data) >= min_data_points:\n",
    "                price_data[stock] = data\n",
    "        except Exception as e:\n",
    "            print(f\"Failed to download data for {stock}: {e}\")\n",
    "\n",
    "print(f\"Final valid stocks: {len(price_data)}\")\n"
   ]
  },
  {
   "cell_type": "code",
   "execution_count": 6,
   "id": "1bb3ac04",
   "metadata": {},
   "outputs": [
    {
     "name": "stdout",
     "output_type": "stream",
     "text": [
      "Monthly returns saved to 'monthly_returns.csv'\n"
     ]
    }
   ],
   "source": [
    "# 创建一个字典存储收益率，避免建模价格，改为建模收益率 （为什么呢）\n",
    "returns_data = {}\n",
    "\n",
    "for stock, df in price_data.items():\n",
    "    df['Monthly Return'] = df['Close'].pct_change()  # 计算月收益率\n",
    "    returns_data[stock] = df['Monthly Return']\n",
    "\n",
    "# 转换为单个DataFrame\n",
    "returns_df = pd.DataFrame(returns_data)\n",
    "\n",
    "# 保存收益率数据\n",
    "returns_df.to_csv(\"monthly_returns.csv\")\n",
    "print(\"Monthly returns saved to 'monthly_returns.csv'\")\n"
   ]
  },
  {
   "cell_type": "code",
   "execution_count": 7,
   "id": "49256385",
   "metadata": {},
   "outputs": [
    {
     "name": "stdout",
     "output_type": "stream",
     "text": [
      "All raw data saved in 'stock_data' folder.\n"
     ]
    }
   ],
   "source": [
    "import os\n",
    "\n",
    "# 保存原始数据\n",
    "data_dir = \"stock_data\"\n",
    "os.makedirs(data_dir, exist_ok=True)\n",
    "\n",
    "for stock, df in price_data.items():\n",
    "    df.to_csv(os.path.join(data_dir, f\"{stock}_raw_data.csv\"))\n",
    "print(f\"All raw data saved in '{data_dir}' folder.\")\n"
   ]
  },
  {
   "cell_type": "code",
   "execution_count": 8,
   "id": "82d5b34e",
   "metadata": {},
   "outputs": [
    {
     "name": "stdout",
     "output_type": "stream",
     "text": [
      "            Market  Size  Value  Risk-Free\n",
      "Date                                      \n",
      "1926-07-01    2.96 -2.56  -2.43       0.22\n",
      "1926-08-01    2.64 -1.17   3.82       0.25\n",
      "1926-09-01    0.36 -1.40   0.13       0.23\n",
      "1926-10-01   -3.24 -0.09   0.70       0.32\n",
      "1926-11-01    2.53 -0.10  -0.51       0.31\n",
      "Processed Fama-French data saved to 'processed_fama_french_factors.csv'\n"
     ]
    }
   ],
   "source": [
    "import pandas as pd\n",
    "\n",
    "# 文件路径（替换为你的文件路径） 在网上获取fama french 因子，然后选择三因子模型，简化模型，避免复杂度过高，使用少量核心风险因子。\n",
    "file_path = \"C:/Users/ROG/Desktop/machine learning/final project/F-F_Research_Data_Factors.CSV\"\n",
    "\n",
    "# 读取 CSV 文件（假设第一行是列名）\n",
    "factors_df = pd.read_csv(file_path)\n",
    "\n",
    "# 重命名第一列为 'Date'（日期列）\n",
    "factors_df.rename(columns={factors_df.columns[0]: \"Date\"}, inplace=True)\n",
    "\n",
    "# 转换日期格式（YYYYMM -> datetime）\n",
    "factors_df['Date'] = pd.to_datetime(factors_df['Date'], format='%Y%m')\n",
    "\n",
    "# 将日期设置为索引\n",
    "factors_df.set_index('Date', inplace=True)\n",
    "\n",
    "# 重命名其他列\n",
    "factors_df.rename(columns={\n",
    "    \"Mkt-RF\": \"Market\",  # 市场因子\n",
    "    \"SMB\": \"Size\",       # 规模因子\n",
    "    \"HML\": \"Value\",      # 价值因子\n",
    "    \"RF\": \"Risk-Free\"    # 无风险收益率\n",
    "}, inplace=True)\n",
    "\n",
    "# 检查数据格式是否正确\n",
    "print(factors_df.head())\n",
    "\n",
    "# 保存处理后的数据\n",
    "factors_df.to_csv(\"processed_fama_french_factors.csv\")\n",
    "print(\"Processed Fama-French data saved to 'processed_fama_french_factors.csv'\")\n",
    "\n",
    "\n",
    "\n"
   ]
  },
  {
   "cell_type": "code",
   "execution_count": 9,
   "id": "272a1322",
   "metadata": {},
   "outputs": [
    {
     "name": "stderr",
     "output_type": "stream",
     "text": [
      "[*********************100%%**********************]  1 of 1 completed"
     ]
    },
    {
     "name": "stdout",
     "output_type": "stream",
     "text": [
      "S&P 500 index data saved to 'sp500_data.csv'\n"
     ]
    },
    {
     "name": "stderr",
     "output_type": "stream",
     "text": [
      "\n"
     ]
    }
   ],
   "source": [
    "import yfinance as yf\n",
    "\n",
    "# 下载标普500指数数据\n",
    "sp500 = yf.download(\"^GSPC\", start=start_date, end=end_date, interval='1mo')\n",
    "\n",
    "# 计算月收益率\n",
    "sp500['Monthly Return'] = sp500['Close'].pct_change()\n",
    "\n",
    "# 保存基准指数数据 保存sp500指数的10年内的收益率，用作日后对比分析。\n",
    "sp500.to_csv(\"sp500_data.csv\")\n",
    "print(\"S&P 500 index data saved to 'sp500_data.csv'\")\n"
   ]
  },
  {
   "cell_type": "markdown",
   "id": "cbac4c47",
   "metadata": {},
   "source": [
    "因子分析"
   ]
  },
  {
   "cell_type": "code",
   "execution_count": 10,
   "id": "e507f014",
   "metadata": {},
   "outputs": [
    {
     "name": "stdout",
     "output_type": "stream",
     "text": [
      "         const    Market      Size     Value\n",
      "MCO  -0.094448  0.013134  0.001047 -0.000493\n",
      "BAC  -0.099904  0.013803  0.004285  0.013077\n",
      "AKAM -0.095391  0.008406 -0.002043  0.000845\n",
      "PFG  -0.100381  0.012813  0.004681  0.010836\n",
      "CPRT -0.085616  0.011584  0.002280 -0.000260\n"
     ]
    }
   ],
   "source": [
    "import pandas as pd\n",
    "import statsmodels.api as sm\n",
    "import pandas as pd\n",
    "import statsmodels.api as sm\n",
    "\n",
    "# 加载数据\n",
    "returns = pd.read_csv(\"monthly_returns.csv\", index_col=0, parse_dates=True)\n",
    "factors = pd.read_csv(\"processed_fama_french_factors.csv\", index_col=0, parse_dates=True)\n",
    "\n",
    "# 对齐时间序列\n",
    "common_index = returns.index.intersection(factors.index)\n",
    "returns = returns.loc[common_index]\n",
    "factors = factors.loc[common_index]\n",
    "\n",
    "# 修复 Risk-Free 列，将 0 替换为 0.001\n",
    "factors['Risk-Free'] = factors['Risk-Free'].replace(0, 0.001)\n",
    "\n",
    "# 计算超额收益\n",
    "excess_returns = returns.subtract(factors['Risk-Free'], axis=0)\n",
    "\n",
    "# 因子暴露值计算函数\n",
    "def calculate_factor_exposure(stock_returns, factor_data):\n",
    "    exposures = {}\n",
    "    for stock in stock_returns.columns:\n",
    "        y = stock_returns[stock]  # 超额收益\n",
    "        X = factor_data[['Market', 'Size', 'Value']]\n",
    "        X = sm.add_constant(X)  # 添加常数项\n",
    "\n",
    "        # 动态过滤有效数据点\n",
    "        valid_mask = ~y.isna() & ~X.isna().any(axis=1)  # 确保 y 和 X 都没有 NaN\n",
    "        y_valid = y[valid_mask]\n",
    "        X_valid = X[valid_mask]\n",
    "\n",
    "        # 跳过数据不足的股票\n",
    "        if len(y_valid) < 30:  # 至少 30 个数据点（可根据需求调整）\n",
    "            exposures[stock] = [None] * X_valid.shape[1]\n",
    "            continue\n",
    "\n",
    "        # 回归计算\n",
    "        model = sm.OLS(y_valid, X_valid).fit()\n",
    "        exposures[stock] = model.params  # 保存回归系数\n",
    "    return pd.DataFrame(exposures).T\n",
    "\n",
    "# 计算因子暴露值\n",
    "factor_exposures = calculate_factor_exposure(excess_returns, factors)\n",
    "\n",
    "# 保存结果\n",
    "factor_exposures.to_csv(\"factor_exposures.csv\")\n",
    "print(factor_exposures.head())\n",
    "\n"
   ]
  },
  {
   "cell_type": "markdown",
   "id": "c7106533",
   "metadata": {},
   "source": [
    "聚类分析"
   ]
  },
  {
   "cell_type": "code",
   "execution_count": 11,
   "id": "5cfa1b4b",
   "metadata": {},
   "outputs": [
    {
     "name": "stdout",
     "output_type": "stream",
     "text": [
      "Explained variance ratio: [0.48888926 0.31910505]\n"
     ]
    },
    {
     "name": "stderr",
     "output_type": "stream",
     "text": [
      "D:\\ANACONDA\\Lib\\site-packages\\sklearn\\cluster\\_kmeans.py:1412: FutureWarning: The default value of `n_init` will change from 10 to 'auto' in 1.4. Set the value of `n_init` explicitly to suppress the warning\n",
      "  super()._check_params_vs_input(X, default_n_init=10)\n",
      "D:\\ANACONDA\\Lib\\site-packages\\sklearn\\cluster\\_kmeans.py:1436: UserWarning: KMeans is known to have a memory leak on Windows with MKL, when there are less chunks than available threads. You can avoid it by setting the environment variable OMP_NUM_THREADS=1.\n",
      "  warnings.warn(\n"
     ]
    },
    {
     "data": {
      "image/png": "[encoded data removed]",
      "text/plain": [
       "<Figure size 640x480 with 1 Axes>"
      ]
     },
     "metadata": {},
     "output_type": "display_data"
    }
   ],
   "source": [
    "import pandas as pd\n",
    "from sklearn.decomposition import PCA\n",
    "from sklearn.cluster import KMeans\n",
    "import matplotlib.pyplot as plt\n",
    "\n",
    "# 加载因子暴露值数据\n",
    "factor_exposures = pd.read_csv(\"factor_exposures.csv\", index_col=0)\n",
    "\n",
    "# 清理数据，移除包含 NaN 的股票\n",
    "factor_exposures = factor_exposures.dropna()\n",
    "\n",
    "# 使用 PCA 降维\n",
    "pca = PCA(n_components=2)  # 降到 2 维\n",
    "reduced_data = pca.fit_transform(factor_exposures)\n",
    "\n",
    "# 打印 PCA 解释的方差比例\n",
    "print(f\"Explained variance ratio: {pca.explained_variance_ratio_}\")\n",
    "\n",
    "# 使用 K-means 进行聚类\n",
    "kmeans = KMeans(n_clusters=5, random_state=42)\n",
    "clusters = kmeans.fit_predict(reduced_data)\n",
    "\n",
    "# 将聚类结果添加到原数据中\n",
    "factor_exposures['Cluster'] = clusters\n",
    "\n",
    "# 保存聚类结果\n",
    "factor_exposures.to_csv(\"clustered_factor_exposures.csv\")\n",
    "\n",
    "# 可视化聚类结果\n",
    "plt.scatter(reduced_data[:, 0], reduced_data[:, 1], c=clusters, cmap='viridis')\n",
    "plt.scatter(kmeans.cluster_centers_[:, 0], kmeans.cluster_centers_[:, 1], s=200, c='red', label='Centroids')\n",
    "plt.title(\"PCA + K-means Clustering\")\n",
    "plt.xlabel(\"Principal Component 1\")\n",
    "plt.ylabel(\"Principal Component 2\")\n",
    "plt.legend()\n",
    "plt.show()\n"
   ]
  },
  {
   "cell_type": "code",
   "execution_count": 12,
   "id": "241989c0",
   "metadata": {},
   "outputs": [
    {
     "name": "stdout",
     "output_type": "stream",
     "text": [
      "            const    Market      Size     Value\n",
      "Cluster                                        \n",
      "0       -0.098662  0.007858 -0.000492  0.004026\n",
      "1       -0.085707  0.013248  0.002795 -0.001250\n",
      "2       -0.104425  0.013336  0.008111  0.010389\n",
      "3       -0.084574  0.018318  0.011719  0.005453\n",
      "4       -0.094766  0.011628  0.002647  0.003982\n"
     ]
    }
   ],
   "source": [
    "cluster_summary = factor_exposures.groupby('Cluster').mean()\n",
    "print(cluster_summary)\n"
   ]
  },
  {
   "cell_type": "code",
   "execution_count": 13,
   "id": "1e952b41",
   "metadata": {},
   "outputs": [
    {
     "name": "stderr",
     "output_type": "stream",
     "text": [
      "D:\\ANACONDA\\Lib\\site-packages\\sklearn\\cluster\\_kmeans.py:1412: FutureWarning: The default value of `n_init` will change from 10 to 'auto' in 1.4. Set the value of `n_init` explicitly to suppress the warning\n",
      "  super()._check_params_vs_input(X, default_n_init=10)\n",
      "D:\\ANACONDA\\Lib\\site-packages\\sklearn\\cluster\\_kmeans.py:1436: UserWarning: KMeans is known to have a memory leak on Windows with MKL, when there are less chunks than available threads. You can avoid it by setting the environment variable OMP_NUM_THREADS=1.\n",
      "  warnings.warn(\n"
     ]
    },
    {
     "name": "stdout",
     "output_type": "stream",
     "text": [
      "Silhouette Score for k=2: 0.48556924147235464\n"
     ]
    },
    {
     "name": "stderr",
     "output_type": "stream",
     "text": [
      "D:\\ANACONDA\\Lib\\site-packages\\sklearn\\cluster\\_kmeans.py:1412: FutureWarning: The default value of `n_init` will change from 10 to 'auto' in 1.4. Set the value of `n_init` explicitly to suppress the warning\n",
      "  super()._check_params_vs_input(X, default_n_init=10)\n",
      "D:\\ANACONDA\\Lib\\site-packages\\sklearn\\cluster\\_kmeans.py:1436: UserWarning: KMeans is known to have a memory leak on Windows with MKL, when there are less chunks than available threads. You can avoid it by setting the environment variable OMP_NUM_THREADS=1.\n",
      "  warnings.warn(\n"
     ]
    },
    {
     "name": "stdout",
     "output_type": "stream",
     "text": [
      "Silhouette Score for k=3: 0.4932754524107065\n"
     ]
    },
    {
     "name": "stderr",
     "output_type": "stream",
     "text": [
      "D:\\ANACONDA\\Lib\\site-packages\\sklearn\\cluster\\_kmeans.py:1412: FutureWarning: The default value of `n_init` will change from 10 to 'auto' in 1.4. Set the value of `n_init` explicitly to suppress the warning\n",
      "  super()._check_params_vs_input(X, default_n_init=10)\n",
      "D:\\ANACONDA\\Lib\\site-packages\\sklearn\\cluster\\_kmeans.py:1436: UserWarning: KMeans is known to have a memory leak on Windows with MKL, when there are less chunks than available threads. You can avoid it by setting the environment variable OMP_NUM_THREADS=1.\n",
      "  warnings.warn(\n"
     ]
    },
    {
     "name": "stdout",
     "output_type": "stream",
     "text": [
      "Silhouette Score for k=4: 0.411866824170658\n"
     ]
    },
    {
     "name": "stderr",
     "output_type": "stream",
     "text": [
      "D:\\ANACONDA\\Lib\\site-packages\\sklearn\\cluster\\_kmeans.py:1412: FutureWarning: The default value of `n_init` will change from 10 to 'auto' in 1.4. Set the value of `n_init` explicitly to suppress the warning\n",
      "  super()._check_params_vs_input(X, default_n_init=10)\n",
      "D:\\ANACONDA\\Lib\\site-packages\\sklearn\\cluster\\_kmeans.py:1436: UserWarning: KMeans is known to have a memory leak on Windows with MKL, when there are less chunks than available threads. You can avoid it by setting the environment variable OMP_NUM_THREADS=1.\n",
      "  warnings.warn(\n"
     ]
    },
    {
     "name": "stdout",
     "output_type": "stream",
     "text": [
      "Silhouette Score for k=5: 0.3880886935985626\n"
     ]
    },
    {
     "name": "stderr",
     "output_type": "stream",
     "text": [
      "D:\\ANACONDA\\Lib\\site-packages\\sklearn\\cluster\\_kmeans.py:1412: FutureWarning: The default value of `n_init` will change from 10 to 'auto' in 1.4. Set the value of `n_init` explicitly to suppress the warning\n",
      "  super()._check_params_vs_input(X, default_n_init=10)\n",
      "D:\\ANACONDA\\Lib\\site-packages\\sklearn\\cluster\\_kmeans.py:1436: UserWarning: KMeans is known to have a memory leak on Windows with MKL, when there are less chunks than available threads. You can avoid it by setting the environment variable OMP_NUM_THREADS=1.\n",
      "  warnings.warn(\n"
     ]
    },
    {
     "name": "stdout",
     "output_type": "stream",
     "text": [
      "Silhouette Score for k=6: 0.3995609643235884\n"
     ]
    },
    {
     "name": "stderr",
     "output_type": "stream",
     "text": [
      "D:\\ANACONDA\\Lib\\site-packages\\sklearn\\cluster\\_kmeans.py:1412: FutureWarning: The default value of `n_init` will change from 10 to 'auto' in 1.4. Set the value of `n_init` explicitly to suppress the warning\n",
      "  super()._check_params_vs_input(X, default_n_init=10)\n",
      "D:\\ANACONDA\\Lib\\site-packages\\sklearn\\cluster\\_kmeans.py:1436: UserWarning: KMeans is known to have a memory leak on Windows with MKL, when there are less chunks than available threads. You can avoid it by setting the environment variable OMP_NUM_THREADS=1.\n",
      "  warnings.warn(\n"
     ]
    },
    {
     "name": "stdout",
     "output_type": "stream",
     "text": [
      "Silhouette Score for k=7: 0.4032754037129446\n"
     ]
    },
    {
     "name": "stderr",
     "output_type": "stream",
     "text": [
      "D:\\ANACONDA\\Lib\\site-packages\\sklearn\\cluster\\_kmeans.py:1412: FutureWarning: The default value of `n_init` will change from 10 to 'auto' in 1.4. Set the value of `n_init` explicitly to suppress the warning\n",
      "  super()._check_params_vs_input(X, default_n_init=10)\n",
      "D:\\ANACONDA\\Lib\\site-packages\\sklearn\\cluster\\_kmeans.py:1436: UserWarning: KMeans is known to have a memory leak on Windows with MKL, when there are less chunks than available threads. You can avoid it by setting the environment variable OMP_NUM_THREADS=1.\n",
      "  warnings.warn(\n"
     ]
    },
    {
     "name": "stdout",
     "output_type": "stream",
     "text": [
      "Silhouette Score for k=8: 0.4105755285841156\n"
     ]
    },
    {
     "name": "stderr",
     "output_type": "stream",
     "text": [
      "D:\\ANACONDA\\Lib\\site-packages\\sklearn\\cluster\\_kmeans.py:1412: FutureWarning: The default value of `n_init` will change from 10 to 'auto' in 1.4. Set the value of `n_init` explicitly to suppress the warning\n",
      "  super()._check_params_vs_input(X, default_n_init=10)\n",
      "D:\\ANACONDA\\Lib\\site-packages\\sklearn\\cluster\\_kmeans.py:1436: UserWarning: KMeans is known to have a memory leak on Windows with MKL, when there are less chunks than available threads. You can avoid it by setting the environment variable OMP_NUM_THREADS=1.\n",
      "  warnings.warn(\n"
     ]
    },
    {
     "name": "stdout",
     "output_type": "stream",
     "text": [
      "Silhouette Score for k=9: 0.4161956489321\n"
     ]
    }
   ],
   "source": [
    "from sklearn.metrics import silhouette_score\n",
    "\n",
    "for k in range(2, 10):\n",
    "    kmeans = KMeans(n_clusters=k, random_state=42)\n",
    "    labels = kmeans.fit_predict(reduced_data)\n",
    "    score = silhouette_score(reduced_data, labels)\n",
    "    print(f\"Silhouette Score for k={k}: {score}\")\n"
   ]
  },
  {
   "cell_type": "code",
   "execution_count": 14,
   "id": "bf128523",
   "metadata": {},
   "outputs": [
    {
     "name": "stdout",
     "output_type": "stream",
     "text": [
      "Explained variance ratio: [0.48888926 0.31910505]\n"
     ]
    },
    {
     "name": "stderr",
     "output_type": "stream",
     "text": [
      "D:\\ANACONDA\\Lib\\site-packages\\sklearn\\cluster\\_kmeans.py:1412: FutureWarning: The default value of `n_init` will change from 10 to 'auto' in 1.4. Set the value of `n_init` explicitly to suppress the warning\n",
      "  super()._check_params_vs_input(X, default_n_init=10)\n",
      "D:\\ANACONDA\\Lib\\site-packages\\sklearn\\cluster\\_kmeans.py:1436: UserWarning: KMeans is known to have a memory leak on Windows with MKL, when there are less chunks than available threads. You can avoid it by setting the environment variable OMP_NUM_THREADS=1.\n",
      "  warnings.warn(\n"
     ]
    },
    {
     "data": {
      "image/png": "[encoded data removed]",
      "text/plain": [
       "<Figure size 640x480 with 1 Axes>"
      ]
     },
     "metadata": {},
     "output_type": "display_data"
    }
   ],
   "source": [
    "import pandas as pd\n",
    "from sklearn.decomposition import PCA\n",
    "from sklearn.cluster import KMeans\n",
    "import matplotlib.pyplot as plt\n",
    "\n",
    "# 加载因子暴露值数据\n",
    "factor_exposures = pd.read_csv(\"factor_exposures.csv\", index_col=0)\n",
    "\n",
    "# 清理数据，移除包含 NaN 的股票\n",
    "factor_exposures = factor_exposures.dropna()\n",
    "\n",
    "# 使用 PCA 降维\n",
    "pca = PCA(n_components=2)  # 降到 2 维\n",
    "reduced_data = pca.fit_transform(factor_exposures)\n",
    "\n",
    "# 打印 PCA 解释的方差比例\n",
    "print(f\"Explained variance ratio: {pca.explained_variance_ratio_}\")\n",
    "\n",
    "# 使用 K-means 进行聚类（k=3）\n",
    "kmeans = KMeans(n_clusters=3, random_state=42)\n",
    "clusters = kmeans.fit_predict(reduced_data)\n",
    "\n",
    "# 将聚类结果添加到原数据中\n",
    "factor_exposures['Cluster'] = clusters\n",
    "\n",
    "# 保存聚类结果\n",
    "factor_exposures.to_csv(\"clustered_factor_exposures_k3.csv\")\n",
    "\n",
    "# 可视化聚类结果\n",
    "plt.scatter(reduced_data[:, 0], reduced_data[:, 1], c=clusters, cmap='viridis')\n",
    "plt.scatter(kmeans.cluster_centers_[:, 0], kmeans.cluster_centers_[:, 1], s=200, c='red', label='Centroids')\n",
    "plt.title(\"PCA + K-means Clustering (k=3)\")\n",
    "plt.xlabel(\"Principal Component 1\")\n",
    "plt.ylabel(\"Principal Component 2\")\n",
    "plt.legend()\n",
    "plt.show()\n"
   ]
  },
  {
   "cell_type": "code",
   "execution_count": 15,
   "id": "68ab2174",
   "metadata": {},
   "outputs": [
    {
     "name": "stdout",
     "output_type": "stream",
     "text": [
      "            const    Market      Size     Value\n",
      "Cluster                                        \n",
      "0       -0.103661  0.013576  0.008163  0.009830\n",
      "1       -0.085283  0.015149  0.006142  0.001263\n",
      "2       -0.097043  0.009226  0.000565  0.003967\n"
     ]
    }
   ],
   "source": [
    "cluster_summary_k3 = factor_exposures.groupby('Cluster').mean()\n",
    "print(cluster_summary_k3)\n"
   ]
  },
  {
   "cell_type": "code",
   "execution_count": 16,
   "id": "87249678",
   "metadata": {},
   "outputs": [
    {
     "data": {
      "image/png": "[encoded data removed]",
      "text/plain": [
       "<Figure size 640x480 with 1 Axes>"
      ]
     },
     "metadata": {},
     "output_type": "display_data"
    },
    {
     "name": "stdout",
     "output_type": "stream",
     "text": [
      "2    33\n",
      "0     9\n",
      "1     8\n",
      "Name: Cluster, dtype: int64\n"
     ]
    }
   ],
   "source": [
    "import seaborn as sns\n",
    "import matplotlib.pyplot as plt\n",
    "\n",
    "sns.boxplot(x='Cluster', y='Market', data=factor_exposures)\n",
    "plt.title('Market Factor Exposure by Cluster')\n",
    "plt.show()\n",
    "cluster_counts = factor_exposures['Cluster'].value_counts()\n",
    "print(cluster_counts)\n"
   ]
  },
  {
   "cell_type": "markdown",
   "id": "e498a29d",
   "metadata": {},
   "source": [
    "组合优化"
   ]
  },
  {
   "cell_type": "code",
   "execution_count": 17,
   "id": "bc364b4b",
   "metadata": {},
   "outputs": [
    {
     "name": "stdout",
     "output_type": "stream",
     "text": [
      "Aligned Data with Cluster:\n",
      "         MCO  BAC  AKAM  PFG  CPRT  CMS  BMY  PPG  AVB  NRG  ...  EFX  CHRW  \\\n",
      "Cluster    2    0     2    0     1    2    2    2    2    2  ...    2     2   \n",
      "\n",
      "         C  WELL  QCOM  EPAM  FIS  ADSK  EXC  WAB  \n",
      "Cluster  0     2     2     1    2     2    2    0  \n",
      "\n",
      "[1 rows x 50 columns]\n",
      "Aligned data with Cluster saved to 'aligned_excess_returns_and_factors_with_cluster.csv'\n"
     ]
    }
   ],
   "source": [
    "import pandas as pd\n",
    "\n",
    "# Step 1: 加载数据\n",
    "# 加载股票月度收益率\n",
    "monthly_returns = pd.read_csv(\"monthly_returns.csv\", index_col=0, parse_dates=True)\n",
    "# 加载因子暴露值\n",
    "factor_exposures = pd.read_csv(\"factor_exposures.csv\", index_col=0, parse_dates=True)\n",
    "# 加载 Fama-French 因子数据（包括 Risk-Free）\n",
    "fama_french_factors = pd.read_csv(\"processed_fama_french_factors.csv\", index_col=0, parse_dates=True)\n",
    "# 加载聚类结果\n",
    "clustered_data = pd.read_csv(\"clustered_factor_exposures_k3.csv\", index_col=0)\n",
    "clustered_data.index.name = 'Stock'  # 确保股票名称为索引\n",
    "\n",
    "# Step 2: 提取 Risk-Free 列\n",
    "risk_free = fama_french_factors['Risk-Free']\n",
    "\n",
    "# Step 3: 计算超额收益率\n",
    "excess_returns = monthly_returns.subtract(risk_free, axis=0)\n",
    "\n",
    "# Step 4: 合并数据\n",
    "# 将超额收益率与因子数据对齐\n",
    "aligned_data = excess_returns.join(factor_exposures, how='inner')\n",
    "\n",
    "# Step 5: 添加聚类结果\n",
    "aligned_data = aligned_data.T  # 转置以便按股票名称合并\n",
    "aligned_data = aligned_data.join(clustered_data['Cluster'], how='inner')  # 加入 Cluster 列\n",
    "aligned_data = aligned_data.T  # 转回原始格式\n",
    "\n",
    "# Step 6: 检查结果\n",
    "print(\"Aligned Data with Cluster:\")\n",
    "print(aligned_data.head())\n",
    "\n",
    "# Step 7: 保存最终文件\n",
    "aligned_data.to_csv(\"aligned_excess_returns_and_factors_with_cluster.csv\")\n",
    "print(\"Aligned data with Cluster saved to 'aligned_excess_returns_and_factors_with_cluster.csv'\")\n",
    "\n",
    "\n"
   ]
  },
  {
   "cell_type": "code",
   "execution_count": 18,
   "id": "5eefdd41",
   "metadata": {},
   "outputs": [
    {
     "name": "stdout",
     "output_type": "stream",
     "text": [
      "Cluster row fixed and saved to 'aligned_excess_returns_and_factors_with_cluster_fixed.csv'\n"
     ]
    }
   ],
   "source": [
    "import pandas as pd\n",
    "\n",
    "# Step 1: 加载文件 行列互换修复文件。\n",
    "file_path = \"aligned_excess_returns_and_factors_with_cluster.csv\"\n",
    "aligned_data = pd.read_csv(file_path, index_col=0)\n",
    "\n",
    "# Step 2: 提取 Cluster 信息\n",
    "clusters = aligned_data.loc['Cluster']  # 提取 Cluster 行\n",
    "\n",
    "# 删除 Cluster 行，只保留收益率数据\n",
    "aligned_data = aligned_data.drop(index='Cluster')\n",
    "\n",
    "# 将 Cluster 添加为单独的一列\n",
    "aligned_data = aligned_data.T  # 转置以便股票为行\n",
    "aligned_data['Cluster'] = clusters.values  # 将 Cluster 行转为列\n",
    "\n",
    "# Step 3: 保存修复后的文件\n",
    "aligned_data.to_csv(\"aligned_excess_returns_and_factors_with_cluster_fixed.csv\")\n",
    "print(\"Cluster row fixed and saved to 'aligned_excess_returns_and_factors_with_cluster_fixed.csv'\")\n",
    "\n",
    "\n"
   ]
  },
  {
   "cell_type": "code",
   "execution_count": 19,
   "id": "cf8799f6",
   "metadata": {},
   "outputs": [
    {
     "name": "stdout",
     "output_type": "stream",
     "text": [
      "Returns Data:\n",
      "                 MCO       BAC      AKAM       PFG      CPRT       CMS  \\\n",
      "Date                                                                     \n",
      "2014-01-01       NaN       NaN       NaN       NaN       NaN       NaN   \n",
      "2014-02-01  0.059265 -0.013134  0.282089  0.040854  0.062719  0.023030   \n",
      "2014-03-01  0.004051  0.040532 -0.047767  0.014113 -0.001098  0.029898   \n",
      "2014-04-01 -0.010338 -0.119767 -0.088301  0.018482 -0.003298  0.035178   \n",
      "2014-05-01  0.089682  0.000000  0.023931 -0.001494 -0.019300 -0.018476   \n",
      "\n",
      "                 BMY       PPG       AVB       NRG  ...       EFX      CHRW  \\\n",
      "Date                                                ...                       \n",
      "2014-01-01       NaN       NaN       NaN       NaN  ...       NaN       NaN   \n",
      "2014-02-01  0.076046  0.084777  0.044292  0.043806  ...  0.000000 -0.114110   \n",
      "2014-03-01 -0.033848 -0.022040  0.018221  0.093911  ... -0.028975  0.010220   \n",
      "2014-04-01 -0.035804  0.000827  0.039826  0.028931  ...  0.040864  0.124260   \n",
      "2014-05-01 -0.006987  0.041266  0.038740  0.089242  ... -0.000282  0.016299   \n",
      "\n",
      "                   C      WELL      QCOM      EPAM       FIS      ADSK  \\\n",
      "Date                                                                     \n",
      "2014-01-01       NaN       NaN       NaN       NaN       NaN       NaN   \n",
      "2014-02-01  0.025300  0.014158  0.014417  0.025183  0.096844  0.024000   \n",
      "2014-03-01 -0.021180  0.014641  0.047417 -0.215359 -0.038842 -0.062881   \n",
      "2014-04-01  0.006513  0.058557 -0.001902 -0.053799 -0.000374 -0.023587   \n",
      "2014-05-01 -0.007097  0.002219  0.022106  0.351430  0.013476  0.090587   \n",
      "\n",
      "                 EXC       WAB  \n",
      "Date                            \n",
      "2014-01-01       NaN       NaN  \n",
      "2014-02-01  0.048621  0.075329  \n",
      "2014-03-01  0.103584 -0.023561  \n",
      "2014-04-01  0.043802 -0.038064  \n",
      "2014-05-01  0.051385  0.056204  \n",
      "\n",
      "[5 rows x 50 columns]\n",
      "\n",
      "Clusters Data:\n",
      "      Cluster\n",
      "MCO         2\n",
      "BAC         0\n",
      "AKAM        2\n",
      "PFG         0\n",
      "CPRT        1\n"
     ]
    }
   ],
   "source": [
    "# 加载收益率数据\n",
    "returns_file_path = \"monthly_returns.csv\"  # 请根据实际文件路径调整\n",
    "returns_data = pd.read_csv(returns_file_path, index_col=0, parse_dates=True)\n",
    "\n",
    "# 加载股票的 Cluster 信息\n",
    "clusters_file_path = \"aligned_excess_returns_and_factors_with_cluster_fixed.csv\"\n",
    "clusters_data = pd.read_csv(clusters_file_path, index_col=0)\n",
    "\n",
    "# 检查文件内容\n",
    "print(\"Returns Data:\")\n",
    "print(returns_data.head())\n",
    "\n",
    "print(\"\\nClusters Data:\")\n",
    "print(clusters_data.head())\n",
    "\n"
   ]
  },
  {
   "cell_type": "code",
   "execution_count": 20,
   "id": "b397f1ea",
   "metadata": {},
   "outputs": [
    {
     "name": "stdout",
     "output_type": "stream",
     "text": [
      "Aligned returns and clusters saved to aligned_returns_and_clusters.csv\n"
     ]
    }
   ],
   "source": [
    "# 添加 Cluster 信息到收益率数据\n",
    "returns_data_with_cluster = returns_data.T\n",
    "returns_data_with_cluster['Cluster'] = clusters_data['Cluster']\n",
    "returns_data_with_cluster = returns_data_with_cluster.T\n",
    "\n",
    "# 保存新的数据文件\n",
    "merged_file_path = \"aligned_returns_and_clusters.csv\"\n",
    "returns_data_with_cluster.to_csv(merged_file_path)\n",
    "\n",
    "print(f\"Aligned returns and clusters saved to {merged_file_path}\")\n"
   ]
  },
  {
   "cell_type": "code",
   "execution_count": 21,
   "id": "5b58db9c",
   "metadata": {},
   "outputs": [
    {
     "name": "stdout",
     "output_type": "stream",
     "text": [
      "Clusters Data:\n",
      "MCO     2\n",
      "BAC     0\n",
      "AKAM    2\n",
      "PFG     0\n",
      "CPRT    1\n",
      "Name: Cluster, dtype: int32\n",
      "\n",
      "Returns Data (First 5 Rows):\n",
      "                          MCO       BAC      AKAM       PFG      CPRT  \\\n",
      "Date                                                                    \n",
      "2014-01-01 00:00:00       NaN       NaN       NaN       NaN       NaN   \n",
      "2014-02-01 00:00:00  0.059265 -0.013134  0.282089  0.040854  0.062719   \n",
      "2014-03-01 00:00:00  0.004051  0.040532 -0.047767  0.014113 -0.001098   \n",
      "2014-04-01 00:00:00 -0.010338 -0.119767 -0.088301  0.018482 -0.003298   \n",
      "2014-05-01 00:00:00  0.089682  0.000000  0.023931 -0.001494 -0.019300   \n",
      "\n",
      "                          CMS       BMY       PPG       AVB       NRG  ...  \\\n",
      "Date                                                                   ...   \n",
      "2014-01-01 00:00:00       NaN       NaN       NaN       NaN       NaN  ...   \n",
      "2014-02-01 00:00:00  0.023030  0.076046  0.084777  0.044292  0.043806  ...   \n",
      "2014-03-01 00:00:00  0.029898 -0.033848 -0.022040  0.018221  0.093911  ...   \n",
      "2014-04-01 00:00:00  0.035178 -0.035804  0.000827  0.039826  0.028931  ...   \n",
      "2014-05-01 00:00:00 -0.018476 -0.006987  0.041266  0.038740  0.089242  ...   \n",
      "\n",
      "                          EFX      CHRW         C      WELL      QCOM  \\\n",
      "Date                                                                    \n",
      "2014-01-01 00:00:00       NaN       NaN       NaN       NaN       NaN   \n",
      "2014-02-01 00:00:00  0.000000 -0.114110  0.025300  0.014158  0.014417   \n",
      "2014-03-01 00:00:00 -0.028975  0.010220 -0.021180  0.014641  0.047417   \n",
      "2014-04-01 00:00:00  0.040864  0.124260  0.006513  0.058557 -0.001902   \n",
      "2014-05-01 00:00:00 -0.000282  0.016299 -0.007097  0.002219  0.022106   \n",
      "\n",
      "                         EPAM       FIS      ADSK       EXC       WAB  \n",
      "Date                                                                   \n",
      "2014-01-01 00:00:00       NaN       NaN       NaN       NaN       NaN  \n",
      "2014-02-01 00:00:00  0.025183  0.096844  0.024000  0.048621  0.075329  \n",
      "2014-03-01 00:00:00 -0.215359 -0.038842 -0.062881  0.103584 -0.023561  \n",
      "2014-04-01 00:00:00 -0.053799 -0.000374 -0.023587  0.043802 -0.038064  \n",
      "2014-05-01 00:00:00  0.351430  0.013476  0.090587  0.051385  0.056204  \n",
      "\n",
      "[5 rows x 50 columns]\n"
     ]
    }
   ],
   "source": [
    "import pandas as pd\n",
    "\n",
    "# 加载数据\n",
    "file_path = \"aligned_returns_and_clusters.csv\"\n",
    "data = pd.read_csv(file_path, index_col=0)\n",
    "\n",
    "# 提取簇信息（最后一行）\n",
    "clusters = data.iloc[-1]  # 最后一行是簇\n",
    "clusters = clusters.astype(int)  # 转换为整数\n",
    "\n",
    "# 删除簇信息行，保留收益率数据\n",
    "returns_data = data.iloc[:-1]\n",
    "\n",
    "# 检查数据\n",
    "print(\"Clusters Data:\")\n",
    "print(clusters.head())\n",
    "\n",
    "print(\"\\nReturns Data (First 5 Rows):\")\n",
    "print(returns_data.head())\n"
   ]
  },
  {
   "cell_type": "code",
   "execution_count": 22,
   "id": "f1f0c0af",
   "metadata": {},
   "outputs": [
    {
     "name": "stdout",
     "output_type": "stream",
     "text": [
      "\n",
      "Processing cluster 2...\n",
      "Cluster 2 optimal weights saved to cluster_2_optimal_weights.csv\n",
      "\n",
      "Processing cluster 0...\n",
      "Cluster 0 optimal weights saved to cluster_0_optimal_weights.csv\n",
      "\n",
      "Processing cluster 1...\n",
      "Cluster 1 optimal weights saved to cluster_1_optimal_weights.csv\n"
     ]
    }
   ],
   "source": [
    "from scipy.optimize import minimize\n",
    "import numpy as np\n",
    "\n",
    "# 定义优化函数\n",
    "def portfolio_volatility(weights, cov_matrix):\n",
    "    \"\"\"计算投资组合的波动率\"\"\"\n",
    "    return np.sqrt(np.dot(weights.T, np.dot(cov_matrix, weights)))\n",
    "\n",
    "def weight_constraint(weights):\n",
    "    \"\"\"权重和必须为1\"\"\"\n",
    "    return np.sum(weights) - 1\n",
    "\n",
    "# 针对每个簇进行优化并保存结果\n",
    "optimal_weights_per_cluster = {}\n",
    "for cluster_id in clusters.unique():\n",
    "    print(f\"\\nProcessing cluster {cluster_id}...\")\n",
    "\n",
    "    # 提取属于该簇的股票\n",
    "    cluster_stocks = clusters[clusters == cluster_id].index\n",
    "    cluster_data = returns_data[cluster_stocks]\n",
    "\n",
    "    if cluster_data.empty:\n",
    "        print(f\"Cluster {cluster_id} has no valid data. Skipping.\")\n",
    "        continue\n",
    "\n",
    "    # 计算均值和协方差矩阵\n",
    "    mean_returns = cluster_data.mean()\n",
    "    cov_matrix = cluster_data.cov()\n",
    "\n",
    "    # 初始化优化设置\n",
    "    num_assets = len(mean_returns)\n",
    "    initial_weights = np.array([1 / num_assets] * num_assets)\n",
    "    bounds = [(0, 1) for _ in range(num_assets)]\n",
    "    constraints = ({'type': 'eq', 'fun': weight_constraint})\n",
    "\n",
    "    # 优化权重\n",
    "    optimized = minimize(portfolio_volatility, initial_weights, args=(cov_matrix,),\n",
    "                         method='SLSQP', bounds=bounds, constraints=constraints)\n",
    "\n",
    "    if optimized.success:\n",
    "        optimal_weights = pd.Series(optimized.x, index=cluster_stocks)\n",
    "        optimal_weights_per_cluster[cluster_id] = optimal_weights\n",
    "\n",
    "        # 保存每个簇的权重到 CSV 文件\n",
    "        output_file = f\"cluster_{cluster_id}_optimal_weights.csv\"\n",
    "        optimal_weights.to_csv(output_file, header=[\"Weight\"])\n",
    "        print(f\"Cluster {cluster_id} optimal weights saved to {output_file}\")\n",
    "    else:\n",
    "        print(f\"Optimization failed for cluster {cluster_id}: {optimized.message}\")\n",
    "\n",
    "\n"
   ]
  },
  {
   "cell_type": "code",
   "execution_count": 23,
   "id": "220c4057",
   "metadata": {},
   "outputs": [
    {
     "name": "stdout",
     "output_type": "stream",
     "text": [
      "\n",
      "Processing all clusters together (cross-cluster optimization)...\n",
      "Cross-cluster optimal weights saved to cross_cluster_optimal_weights.csv\n"
     ]
    }
   ],
   "source": [
    "# 跨簇优化\n",
    "print(\"\\nProcessing all clusters together (cross-cluster optimization)...\")\n",
    "\n",
    "# 使用所有股票\n",
    "all_stocks = returns_data.columns\n",
    "all_data = returns_data[all_stocks]\n",
    "\n",
    "# 计算均值和协方差矩阵\n",
    "mean_returns = all_data.mean()\n",
    "cov_matrix = all_data.cov()\n",
    "\n",
    "# 初始化优化设置\n",
    "num_assets = len(mean_returns)\n",
    "initial_weights = np.array([1 / num_assets] * num_assets)\n",
    "bounds = [(0, 1) for _ in range(num_assets)]\n",
    "constraints = ({'type': 'eq', 'fun': weight_constraint})\n",
    "\n",
    "# 优化权重\n",
    "optimized = minimize(portfolio_volatility, initial_weights, args=(cov_matrix,),\n",
    "                     method='SLSQP', bounds=bounds, constraints=constraints)\n",
    "\n",
    "if optimized.success:\n",
    "    optimal_weights = pd.Series(optimized.x, index=all_stocks)\n",
    "\n",
    "    # 保存跨簇权重结果到 CSV 文件\n",
    "    output_file = \"cross_cluster_optimal_weights.csv\"\n",
    "    optimal_weights.to_csv(output_file, header=[\"Weight\"])\n",
    "    print(f\"Cross-cluster optimal weights saved to {output_file}\")\n",
    "else:\n",
    "    print(f\"Optimization failed: {optimized.message}\")\n"
   ]
  },
  {
   "cell_type": "markdown",
   "id": "a0b69c9a",
   "metadata": {},
   "source": [
    "结果验证"
   ]
  },
  {
   "cell_type": "code",
   "execution_count": 24,
   "id": "eec24f94",
   "metadata": {},
   "outputs": [
    {
     "name": "stdout",
     "output_type": "stream",
     "text": [
      "收益率文件已保存: processed_returns.csv\n",
      "簇信息文件已保存: processed_clusters.csv\n"
     ]
    }
   ],
   "source": [
    "import pandas as pd\n",
    "\n",
    "# Step 1: 加载数据\n",
    "file_path = \"aligned_returns_and_clusters.csv\"  # 替换为你的文件路径\n",
    "data = pd.read_csv(file_path, index_col=0)\n",
    "\n",
    "# Step 2: 提取簇信息（最后一行）\n",
    "clusters = data.iloc[-1]\n",
    "clusters.name = \"Cluster\"  # 重命名索引为 \"Cluster\"\n",
    "\n",
    "# 删除最后一行，保留收益率数据\n",
    "returns_data = data.iloc[:-1]\n",
    "\n",
    "# Step 3: 转置收益率数据为 \"行: 时间, 列: 股票\"\n",
    "returns_data.index.name = \"Date\"\n",
    "returns_data = returns_data.T  # 转置数据，使股票为行，时间为列\n",
    "\n",
    "# Step 4: 保存调整后的文件\n",
    "returns_file = \"processed_returns.csv\"\n",
    "clusters_file = \"processed_clusters.csv\"\n",
    "\n",
    "returns_data.to_csv(returns_file)\n",
    "clusters.to_csv(clusters_file, header=True)\n",
    "\n",
    "print(f\"收益率文件已保存: {returns_file}\")\n",
    "print(f\"簇信息文件已保存: {clusters_file}\")\n"
   ]
  },
  {
   "cell_type": "code",
   "execution_count": 25,
   "id": "2091607e",
   "metadata": {},
   "outputs": [
    {
     "name": "stdout",
     "output_type": "stream",
     "text": [
      "Data Columns (should be stocks): Index(['MCO', 'BAC', 'AKAM', 'PFG', 'CPRT'], dtype='object')\n",
      "Data Index (should be dates): Index(['2014-01-01 00:00:00', '2014-02-01 00:00:00', '2014-03-01 00:00:00',\n",
      "       '2014-04-01 00:00:00', '2014-05-01 00:00:00'],\n",
      "      dtype='object', name='Date')\n",
      "Adjusted Returns Data (first 5 rows):\n",
      "                           MCO       BAC      AKAM       PFG      CPRT  \\\n",
      "Date                                                                    \n",
      "2014-01-01 00:00:00       NaN       NaN       NaN       NaN       NaN   \n",
      "2014-02-01 00:00:00  0.059265 -0.013134  0.282089  0.040854  0.062719   \n",
      "2014-03-01 00:00:00  0.004051  0.040532 -0.047767  0.014113 -0.001098   \n",
      "2014-04-01 00:00:00 -0.010338 -0.119767 -0.088301  0.018482 -0.003298   \n",
      "2014-05-01 00:00:00  0.089682  0.000000  0.023931 -0.001494 -0.019300   \n",
      "\n",
      "                          CMS       BMY       PPG       AVB       NRG  ...  \\\n",
      "Date                                                                   ...   \n",
      "2014-01-01 00:00:00       NaN       NaN       NaN       NaN       NaN  ...   \n",
      "2014-02-01 00:00:00  0.023030  0.076046  0.084777  0.044292  0.043806  ...   \n",
      "2014-03-01 00:00:00  0.029898 -0.033848 -0.022040  0.018221  0.093911  ...   \n",
      "2014-04-01 00:00:00  0.035178 -0.035804  0.000827  0.039826  0.028931  ...   \n",
      "2014-05-01 00:00:00 -0.018476 -0.006987  0.041266  0.038740  0.089242  ...   \n",
      "\n",
      "                          EFX      CHRW         C      WELL      QCOM  \\\n",
      "Date                                                                    \n",
      "2014-01-01 00:00:00       NaN       NaN       NaN       NaN       NaN   \n",
      "2014-02-01 00:00:00  0.000000 -0.114110  0.025300  0.014158  0.014417   \n",
      "2014-03-01 00:00:00 -0.028975  0.010220 -0.021180  0.014641  0.047417   \n",
      "2014-04-01 00:00:00  0.040864  0.124260  0.006513  0.058557 -0.001902   \n",
      "2014-05-01 00:00:00 -0.000282  0.016299 -0.007097  0.002219  0.022106   \n",
      "\n",
      "                         EPAM       FIS      ADSK       EXC       WAB  \n",
      "Date                                                                   \n",
      "2014-01-01 00:00:00       NaN       NaN       NaN       NaN       NaN  \n",
      "2014-02-01 00:00:00  0.025183  0.096844  0.024000  0.048621  0.075329  \n",
      "2014-03-01 00:00:00 -0.215359 -0.038842 -0.062881  0.103584 -0.023561  \n",
      "2014-04-01 00:00:00 -0.053799 -0.000374 -0.023587  0.043802 -0.038064  \n",
      "2014-05-01 00:00:00  0.351430  0.013476  0.090587  0.051385  0.056204  \n",
      "\n",
      "[5 rows x 50 columns]\n",
      "Adjusted Clusters Data (first 5 rows):\n",
      " MCO     2\n",
      "BAC     0\n",
      "AKAM    2\n",
      "PFG     0\n",
      "CPRT    1\n",
      "Name: Cluster, dtype: int32\n"
     ]
    }
   ],
   "source": [
    "import pandas as pd\n",
    "\n",
    "# 加载文件\n",
    "aligned_data = pd.read_csv(\"aligned_returns_and_clusters.csv\", index_col=0)\n",
    "\n",
    "# 检查文件结构\n",
    "print(\"Data Columns (should be stocks):\", aligned_data.columns[:5])\n",
    "print(\"Data Index (should be dates):\", aligned_data.index[:5])\n",
    "\n",
    "# 将最后一行提取为簇信息\n",
    "clusters = aligned_data.iloc[-1].astype(int)\n",
    "returns_data = aligned_data.iloc[:-1]\n",
    "\n",
    "# 确认数据调整后格式\n",
    "print(\"Adjusted Returns Data (first 5 rows):\\n\", returns_data.head())\n",
    "print(\"Adjusted Clusters Data (first 5 rows):\\n\", clusters.head())\n",
    "\n"
   ]
  },
  {
   "cell_type": "code",
   "execution_count": 26,
   "id": "788bd460",
   "metadata": {},
   "outputs": [
    {
     "name": "stdout",
     "output_type": "stream",
     "text": [
      "Common stocks: 50\n",
      "Stocks in clusters but not in returns data: set()\n",
      "Stocks in returns data but not in clusters: set()\n"
     ]
    }
   ],
   "source": [
    "# 确保返回数据和簇分配中的股票一致\n",
    "returns_stocks = set(returns_data.columns)\n",
    "cluster_stocks = set(clusters.index)\n",
    "\n",
    "# 检查公共股票\n",
    "common_stocks = returns_stocks & cluster_stocks\n",
    "missing_in_returns = cluster_stocks - returns_stocks\n",
    "missing_in_clusters = returns_stocks - cluster_stocks\n",
    "\n",
    "print(f\"Common stocks: {len(common_stocks)}\")\n",
    "print(f\"Stocks in clusters but not in returns data: {missing_in_returns}\")\n",
    "print(f\"Stocks in returns data but not in clusters: {missing_in_clusters}\")\n",
    "\n",
    "# 保留公共股票\n",
    "returns_data = returns_data[list(common_stocks)]\n",
    "clusters = clusters.loc[list(common_stocks)]\n",
    "\n",
    "\n"
   ]
  },
  {
   "cell_type": "code",
   "execution_count": 27,
   "id": "f14b6091",
   "metadata": {},
   "outputs": [
    {
     "name": "stdout",
     "output_type": "stream",
     "text": [
      "Adjusted data saved.\n"
     ]
    }
   ],
   "source": [
    "# 保存调整后的数据\n",
    "returns_data.to_csv(\"processed_returns_data.csv\")\n",
    "clusters.to_csv(\"processed_clusters_data.csv\")\n",
    "print(\"Adjusted data saved.\")\n",
    "\n"
   ]
  },
  {
   "cell_type": "code",
   "execution_count": 28,
   "id": "904a11cb",
   "metadata": {},
   "outputs": [
    {
     "name": "stdout",
     "output_type": "stream",
     "text": [
      "Processing Cluster 2...\n",
      "Processing Cluster 0...\n",
      "Processing Cluster 1...\n",
      "Cluster portfolio returns saved to 'portfolio_returns_per_cluster.csv'\n"
     ]
    },
    {
     "name": "stderr",
     "output_type": "stream",
     "text": [
      "C:\\Users\\ROG\\AppData\\Local\\Temp\\ipykernel_38980\\3350422609.py:5: FutureWarning: The squeeze argument has been deprecated and will be removed in a future version. Append .squeeze(\"columns\") to the call to squeeze.\n",
      "\n",
      "\n",
      "  clusters = pd.read_csv(\"processed_clusters_data.csv\", index_col=0, squeeze=True)\n",
      "C:\\Users\\ROG\\AppData\\Local\\Temp\\ipykernel_38980\\3350422609.py:20: FutureWarning: The squeeze argument has been deprecated and will be removed in a future version. Append .squeeze(\"columns\") to the call to squeeze.\n",
      "\n",
      "\n",
      "  weights = pd.read_csv(weights_file, index_col=0, squeeze=True)\n",
      "C:\\Users\\ROG\\AppData\\Local\\Temp\\ipykernel_38980\\3350422609.py:20: FutureWarning: The squeeze argument has been deprecated and will be removed in a future version. Append .squeeze(\"columns\") to the call to squeeze.\n",
      "\n",
      "\n",
      "  weights = pd.read_csv(weights_file, index_col=0, squeeze=True)\n",
      "C:\\Users\\ROG\\AppData\\Local\\Temp\\ipykernel_38980\\3350422609.py:20: FutureWarning: The squeeze argument has been deprecated and will be removed in a future version. Append .squeeze(\"columns\") to the call to squeeze.\n",
      "\n",
      "\n",
      "  weights = pd.read_csv(weights_file, index_col=0, squeeze=True)\n"
     ]
    }
   ],
   "source": [
    "import pandas as pd\n",
    "\n",
    "# 读取调整后的收益率和簇数据\n",
    "returns_data = pd.read_csv(\"processed_returns_data.csv\", index_col=0, parse_dates=True)\n",
    "clusters = pd.read_csv(\"processed_clusters_data.csv\", index_col=0, squeeze=True)\n",
    "\n",
    "# 初始化存储各簇收益率的 DataFrame\n",
    "portfolio_returns_per_cluster = pd.DataFrame(index=returns_data.index)\n",
    "\n",
    "# 遍历每个簇\n",
    "for cluster_id in clusters.unique():\n",
    "    print(f\"Processing Cluster {cluster_id}...\")\n",
    "    \n",
    "    # 提取属于该簇的股票\n",
    "    cluster_stocks = clusters[clusters == cluster_id].index\n",
    "    \n",
    "    # 读取该簇的权重\n",
    "    weights_file = f\"cluster_{cluster_id}_optimal_weights.csv\"\n",
    "    try:\n",
    "        weights = pd.read_csv(weights_file, index_col=0, squeeze=True)\n",
    "    except FileNotFoundError:\n",
    "        print(f\"Weight file for cluster {cluster_id} not found. Skipping...\")\n",
    "        continue\n",
    "    \n",
    "    # 计算该簇的投资组合收益率\n",
    "    cluster_returns = returns_data[cluster_stocks]\n",
    "    portfolio_returns = (cluster_returns * weights).sum(axis=1)\n",
    "    \n",
    "    # 添加到结果 DataFrame\n",
    "    portfolio_returns_per_cluster[f\"Cluster_{cluster_id}_Returns\"] = portfolio_returns\n",
    "\n",
    "# 保存所有簇的收益率\n",
    "portfolio_returns_per_cluster.to_csv(\"portfolio_returns_per_cluster.csv\")\n",
    "print(\"Cluster portfolio returns saved to 'portfolio_returns_per_cluster.csv'\")\n"
   ]
  },
  {
   "cell_type": "code",
   "execution_count": 29,
   "id": "e0023862",
   "metadata": {},
   "outputs": [
    {
     "name": "stdout",
     "output_type": "stream",
     "text": [
      "Aligned Returns Data Index: DatetimeIndex(['2015-03-01', '2015-04-01', '2015-05-01', '2015-06-01',\n",
      "               '2015-07-01', '2015-08-01', '2015-09-01', '2015-10-01',\n",
      "               '2015-11-01', '2015-12-01',\n",
      "               ...\n",
      "               '2023-03-01', '2023-04-01', '2023-05-01', '2023-06-01',\n",
      "               '2023-07-01', '2023-08-01', '2023-09-01', '2023-10-01',\n",
      "               '2023-11-01', '2023-12-01'],\n",
      "              dtype='datetime64[ns]', name='Date', length=106, freq=None)\n",
      "Aligned S&P 500 Data Index: DatetimeIndex(['2015-03-01', '2015-04-01', '2015-05-01', '2015-06-01',\n",
      "               '2015-07-01', '2015-08-01', '2015-09-01', '2015-10-01',\n",
      "               '2015-11-01', '2015-12-01',\n",
      "               ...\n",
      "               '2023-03-01', '2023-04-01', '2023-05-01', '2023-06-01',\n",
      "               '2023-07-01', '2023-08-01', '2023-09-01', '2023-10-01',\n",
      "               '2023-11-01', '2023-12-01'],\n",
      "              dtype='datetime64[ns]', name='Date', length=106, freq=None)\n"
     ]
    }
   ],
   "source": [
    "import pandas as pd\n",
    "\n",
    "# 加载数据\n",
    "returns_data = pd.read_csv(\"monthly_returns.csv\", index_col=0, parse_dates=True)\n",
    "sp500_data = pd.read_csv(\"sp500_data.csv\", index_col=0, parse_dates=True)\n",
    "\n",
    "# 确保时间索引是 datetime 格式，并移除时区信息\n",
    "returns_data.index = pd.to_datetime(returns_data.index, errors='coerce').tz_localize(None)\n",
    "sp500_data.index = pd.to_datetime(sp500_data.index, errors='coerce').tz_localize(None)\n",
    "\n",
    "# 删除无效日期\n",
    "returns_data.dropna(inplace=True)\n",
    "sp500_data.dropna(inplace=True)\n",
    "\n",
    "# 对齐日期索引，获取公共日期范围\n",
    "common_dates = returns_data.index.intersection(sp500_data.index)\n",
    "returns_data = returns_data.loc[common_dates]\n",
    "sp500_data = sp500_data.loc[common_dates]\n",
    "\n",
    "print(\"Aligned Returns Data Index:\", returns_data.index)\n",
    "print(\"Aligned S&P 500 Data Index:\", sp500_data.index)\n"
   ]
  },
  {
   "cell_type": "code",
   "execution_count": 30,
   "id": "02e7c431",
   "metadata": {},
   "outputs": [
    {
     "name": "stdout",
     "output_type": "stream",
     "text": [
      "Sharpe Ratio: 0.21\n",
      "Information Ratio: 0.18\n",
      "Maximum Drawdown: -25.16%\n"
     ]
    }
   ],
   "source": [
    "import numpy as np\n",
    "\n",
    "# 定义计算指标的函数\n",
    "def calculate_sharpe_ratio(returns, risk_free_rate=0.001):\n",
    "    \"\"\"计算夏普比率\"\"\"\n",
    "    excess_returns = returns - risk_free_rate\n",
    "    return excess_returns.mean() / excess_returns.std()\n",
    "\n",
    "def calculate_information_ratio(returns, benchmark_returns):\n",
    "    \"\"\"计算信息比率\"\"\"\n",
    "    active_returns = returns - benchmark_returns\n",
    "    return active_returns.mean() / active_returns.std()\n",
    "\n",
    "def calculate_max_drawdown(returns):\n",
    "    \"\"\"计算最大回撤\"\"\"\n",
    "    cumulative_returns = (1 + returns).cumprod()\n",
    "    drawdown = cumulative_returns / cumulative_returns.cummax() - 1\n",
    "    return drawdown.min()\n",
    "\n",
    "# 计算指标\n",
    "sharpe_ratio = calculate_sharpe_ratio(returns_data.mean(axis=1))\n",
    "information_ratio = calculate_information_ratio(returns_data.mean(axis=1), sp500_data['Monthly Return'])\n",
    "max_drawdown = calculate_max_drawdown(returns_data.mean(axis=1))\n",
    "\n",
    "print(f\"Sharpe Ratio: {sharpe_ratio:.2f}\")\n",
    "print(f\"Information Ratio: {information_ratio:.2f}\")\n",
    "print(f\"Maximum Drawdown: {max_drawdown:.2%}\")\n"
   ]
  },
  {
   "cell_type": "code",
   "execution_count": 31,
   "id": "f5390ba1",
   "metadata": {},
   "outputs": [
    {
     "data": {
      "image/png": "[encoded data removed]",
      "text/plain": [
       "<Figure size 640x480 with 1 Axes>"
      ]
     },
     "metadata": {},
     "output_type": "display_data"
    }
   ],
   "source": [
    "import matplotlib.pyplot as plt\n",
    "\n",
    "\n",
    "# 夏普比率和最大回撤柱状图\n",
    "metrics = ['Sharpe Ratio', 'Information Ratio', 'Maximum Drawdown']\n",
    "values = [sharpe_ratio, information_ratio, abs(max_drawdown)]  # 取绝对值便于展示\n",
    "\n",
    "plt.bar(metrics, values, color=['blue', 'orange', 'red'])\n",
    "plt.title(\"Performance Metrics\")\n",
    "plt.ylabel(\"Value\")\n",
    "plt.show()\n"
   ]
  },
  {
   "cell_type": "code",
   "execution_count": 167,
   "id": "90b0a640",
   "metadata": {},
   "outputs": [
    {
     "data": {
      "image/png": "[encoded data removed]",
      "text/plain": [
       "<Figure size 1200x800 with 1 Axes>"
      ]
     },
     "metadata": {},
     "output_type": "display_data"
    }
   ],
   "source": [
    "import numpy as np\n",
    "import matplotlib.pyplot as plt\n",
    "\n",
    "# Ensure time indexes are consistent and aligned\n",
    "aligned_index = returns_data.index.intersection(sp500_data.index)\n",
    "returns_data = returns_data.loc[aligned_index]\n",
    "sp500_data = sp500_data.loc[aligned_index]\n",
    "\n",
    "# Calculate 1/N portfolio returns\n",
    "num_assets = returns_data.shape[1]  # Number of stocks\n",
    "equal_weights = np.ones(num_assets) / num_assets  # Equal weights\n",
    "returns_1n = (returns_data * equal_weights).sum(axis=1)  # 1/N portfolio returns\n",
    "cumulative_returns_1n = (1 + returns_1n).cumprod()\n",
    "\n",
    "# Calculate optimized portfolio cumulative returns\n",
    "# Assuming you already have `optimized_weights`\n",
    "optimized_weights = pd.read_csv(\"combined_optimized_weights.csv\", index_col=0)['Weight']\n",
    "returns_optimized = (returns_data * optimized_weights).sum(axis=1)\n",
    "cumulative_returns_optimized = (1 + returns_optimized).cumprod()\n",
    "\n",
    "# Calculate S&P 500 cumulative returns\n",
    "cumulative_returns_sp500 = (1 + sp500_data['Monthly Return']).cumprod()\n",
    "\n",
    "# Plot cumulative returns\n",
    "plt.figure(figsize=(12, 8))\n",
    "plt.plot(cumulative_returns_optimized, label=\"Optimized Portfolio\", color=\"blue\", linewidth=2)\n",
    "plt.plot(cumulative_returns_1n, label=\"1/N Portfolio\", color=\"orange\", linestyle=\"--\", linewidth=2)\n",
    "plt.plot(cumulative_returns_sp500, label=\"S&P 500 Index\", color=\"green\", linestyle=\"-.\", linewidth=2)\n",
    "\n",
    "# Add titles, labels, and legend\n",
    "plt.title(\"Cumulative Returns Comparison\", fontsize=14)\n",
    "plt.xlabel(\"Date\", fontsize=12)\n",
    "plt.ylabel(\"Cumulative Returns\", fontsize=12)\n",
    "plt.legend(fontsize=12, loc=\"upper left\")\n",
    "plt.grid(alpha=0.3)\n",
    "\n",
    "plt.show()\n"
   ]
  },
  {
   "cell_type": "code",
   "execution_count": null,
   "id": "7ec96878",
   "metadata": {},
   "outputs": [],
   "source": []
  }
 ],
 "metadata": {
  "celltoolbar": "无",
  "kernelspec": {
   "display_name": "Python 3 (ipykernel)",
   "language": "python",
   "name": "python3"
  },
  "language_info": {
   "codemirror_mode": {
    "name": "ipython",
    "version": 3
   },
   "file_extension": ".py",
   "mimetype": "text/x-python",
   "name": "python",
   "nbconvert_exporter": "python",
   "pygments_lexer": "ipython3",
   "version": "3.11.4"
  }
 },
 "nbformat": 4,
 "nbformat_minor": 5
}
